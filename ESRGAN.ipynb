{
 "cells": [
  {
   "cell_type": "code",
   "execution_count": 2,
   "id": "687efbf1-5ca8-4b3e-ab8f-f63fb3cd6d57",
   "metadata": {},
   "outputs": [
    {
     "name": "stdout",
     "output_type": "stream",
     "text": [
      "Collecting pillow\n",
      "  Downloading pillow-11.0.0-cp313-cp313-manylinux_2_28_x86_64.whl.metadata (9.1 kB)\n",
      "Downloading pillow-11.0.0-cp313-cp313-manylinux_2_28_x86_64.whl (4.4 MB)\n",
      "\u001b[2K   \u001b[90m━━━━━━━━━━━━━━━━━━━━━━━━━━━━━━━━━━━━━━━━\u001b[0m \u001b[32m4.4/4.4 MB\u001b[0m \u001b[31m15.9 MB/s\u001b[0m eta \u001b[36m0:00:00\u001b[0m \u001b[36m0:00:02\u001b[0m\n",
      "\u001b[?25hInstalling collected packages: pillow\n",
      "Successfully installed pillow-11.0.0\n"
     ]
    }
   ],
   "source": [
    "!pip install pillow"
   ]
  },
  {
   "cell_type": "code",
   "execution_count": 4,
   "id": "c67d7531-776d-4bb0-baec-fe4c09896b38",
   "metadata": {},
   "outputs": [
    {
     "name": "stdout",
     "output_type": "stream",
     "text": [
      "Collecting numpy\n",
      "  Downloading numpy-2.1.3-cp313-cp313-manylinux_2_17_x86_64.manylinux2014_x86_64.whl.metadata (62 kB)\n",
      "Downloading numpy-2.1.3-cp313-cp313-manylinux_2_17_x86_64.manylinux2014_x86_64.whl (16.0 MB)\n",
      "\u001b[2K   \u001b[90m━━━━━━━━━━━━━━━━━━━━━━━━━━━━━━━━━━━━━━━━\u001b[0m \u001b[32m16.0/16.0 MB\u001b[0m \u001b[31m35.8 MB/s\u001b[0m eta \u001b[36m0:00:00\u001b[0m00:01\u001b[0m0:01\u001b[0m\n",
      "\u001b[?25hInstalling collected packages: numpy\n",
      "Successfully installed numpy-2.1.3\n"
     ]
    }
   ],
   "source": [
    "!pip install numpy"
   ]
  },
  {
   "cell_type": "code",
   "execution_count": 12,
   "id": "7b473e40-6cdc-4545-9221-20b69f0c3185",
   "metadata": {},
   "outputs": [
    {
     "name": "stdout",
     "output_type": "stream",
     "text": [
      "Channels:\n",
      " - conda-forge\n",
      " - defaults\n",
      "Platform: linux-64\n",
      "Collecting package metadata (repodata.json): done\n",
      "Solving environment: - \u001b[33m\u001b[1mwarning  libmamba\u001b[m Added empty dependency for problem type SOLVER_RULE_UPDATE\n",
      "failed\n",
      "\n",
      "LibMambaUnsatisfiableError: Encountered problems while solving:\n",
      "  - nothing provides tensorflow 2.15.0 cuda118py310h943c599_0 needed by tensorflow-gpu-2.15.0-cuda118py310h0240f8b_0\n",
      "\n",
      "Could not solve for environment specs\n",
      "The following packages are incompatible\n",
      "├─ \u001b[32mpin-1\u001b[0m is installable and it requires\n",
      "│  └─ \u001b[32mpython 3.13.* \u001b[0m, which can be installed;\n",
      "└─ \u001b[31mtensorflow-gpu\u001b[0m is not installable because there are no viable options\n",
      "   ├─ \u001b[31mtensorflow-gpu [2.10.0|2.11.0|...|2.8.1]\u001b[0m would require\n",
      "   │  └─ \u001b[31mtensorflow [2.10.0 cuda112py310he87a039_0|2.11.0 cuda112py310he87a039_0|...|2.8.1 cuda112py310he87a039_0]\u001b[0m, which requires\n",
      "   │     └─ \u001b[31mpython >=3.10,<3.11.0a0 \u001b[0m, which conflicts with any installable versions previously reported;\n",
      "   ├─ \u001b[31mtensorflow-gpu [2.10.0|2.6.0|...|2.8.1]\u001b[0m would require\n",
      "   │  └─ \u001b[31mtensorflow [2.10.0 cuda112py37h01c6645_0|2.6.0 cuda102py37h4cd87c6_2|...|2.8.1 cuda112py37h01c6645_0]\u001b[0m, which requires\n",
      "   │     ├─ \u001b[31mpython [3.7.* |>=3.7,<3.8.0a0 ]\u001b[0m, which conflicts with any installable versions previously reported;\n",
      "   │     └─ \u001b[31mtensorflow-base [1.13.1 py37h5ece82f_4|1.13.1 py37h5ece82f_5|1.14.0 py37h4531e10_0]\u001b[0m, which requires\n",
      "   │        └─ \u001b[31mpython >=3.7,<3.8.0a0 \u001b[0m, which conflicts with any installable versions previously reported;\n",
      "   ├─ \u001b[31mtensorflow-gpu [2.10.0|2.11.0|...|2.8.1]\u001b[0m would require\n",
      "   │  └─ \u001b[31mtensorflow [2.10.0 cuda112py38hded6998_0|2.11.0 cuda112py38hded6998_0|...|2.8.1 cuda112py38hded6998_0]\u001b[0m, which requires\n",
      "   │     └─ \u001b[31mpython [3.8.* |>=3.8,<3.9.0a0 ]\u001b[0m, which conflicts with any installable versions previously reported;\n",
      "   ├─ \u001b[31mtensorflow-gpu [2.10.0|2.11.0|...|2.8.1]\u001b[0m would require\n",
      "   │  └─ \u001b[31mtensorflow [2.10.0 cuda112py39h01bd6f0_0|2.11.0 cuda112py39h01bd6f0_0|...|2.8.1 cuda112py39h01bd6f0_0]\u001b[0m, which requires\n",
      "   │     └─ \u001b[31mpython [3.9.* |>=3.9,<3.10.0a0 ]\u001b[0m, which conflicts with any installable versions previously reported;\n",
      "   ├─ \u001b[31mtensorflow-gpu [2.12.1|2.13.1|...|2.17.0]\u001b[0m would require\n",
      "   │  └─ \u001b[31mtensorflow [2.12.1 cuda112py311h63ba870_0|2.12.1 cuda112py311h63ba870_1|...|2.17.0 cuda124py311ha1f05a4_200]\u001b[0m, which requires\n",
      "   │     └─ \u001b[31mpython >=3.11,<3.12.0a0 \u001b[0m, which conflicts with any installable versions previously reported;\n",
      "   ├─ \u001b[31mtensorflow-gpu 2.15.0\u001b[0m would require\n",
      "   │  └─ \u001b[31mtensorflow 2.15.0 cuda118py310h943c599_0\u001b[0m, which does not exist (perhaps a missing channel);\n",
      "   ├─ \u001b[31mtensorflow-gpu 2.15.0\u001b[0m would require\n",
      "   │  └─ \u001b[31mtensorflow 2.15.0 cuda118py310h943c599_1\u001b[0m, which does not exist (perhaps a missing channel);\n",
      "   ├─ \u001b[31mtensorflow-gpu 2.15.0\u001b[0m would require\n",
      "   │  └─ \u001b[31mtensorflow 2.15.0 cuda118py311hfabe020_0\u001b[0m, which does not exist (perhaps a missing channel);\n",
      "   ├─ \u001b[31mtensorflow-gpu 2.15.0\u001b[0m would require\n",
      "   │  └─ \u001b[31mtensorflow 2.15.0 cuda118py311hfabe020_1\u001b[0m, which does not exist (perhaps a missing channel);\n",
      "   ├─ \u001b[31mtensorflow-gpu 2.15.0\u001b[0m would require\n",
      "   │  └─ \u001b[31mtensorflow 2.15.0 cuda118py39h5387621_0\u001b[0m, which does not exist (perhaps a missing channel);\n",
      "   ├─ \u001b[31mtensorflow-gpu 2.15.0\u001b[0m would require\n",
      "   │  └─ \u001b[31mtensorflow 2.15.0 cuda118py39h5387621_1\u001b[0m, which does not exist (perhaps a missing channel);\n",
      "   ├─ \u001b[31mtensorflow-gpu 2.15.0\u001b[0m would require\n",
      "   │  └─ \u001b[31mtensorflow 2.15.0 cuda120py310h9360858_0\u001b[0m, which does not exist (perhaps a missing channel);\n",
      "   ├─ \u001b[31mtensorflow-gpu 2.15.0\u001b[0m would require\n",
      "   │  └─ \u001b[31mtensorflow 2.15.0 cuda120py310h9360858_1\u001b[0m, which does not exist (perhaps a missing channel);\n",
      "   ├─ \u001b[31mtensorflow-gpu 2.15.0\u001b[0m would require\n",
      "   │  └─ \u001b[31mtensorflow 2.15.0 cuda120py311h5cbd639_0\u001b[0m, which does not exist (perhaps a missing channel);\n",
      "   ├─ \u001b[31mtensorflow-gpu 2.15.0\u001b[0m would require\n",
      "   │  └─ \u001b[31mtensorflow 2.15.0 cuda120py311h5cbd639_1\u001b[0m, which does not exist (perhaps a missing channel);\n",
      "   ├─ \u001b[31mtensorflow-gpu 2.15.0\u001b[0m would require\n",
      "   │  └─ \u001b[31mtensorflow 2.15.0 cuda120py39hb94c71b_0\u001b[0m, which does not exist (perhaps a missing channel);\n",
      "   ├─ \u001b[31mtensorflow-gpu 2.15.0\u001b[0m would require\n",
      "   │  └─ \u001b[31mtensorflow 2.15.0 cuda120py39hb94c71b_1\u001b[0m, which does not exist (perhaps a missing channel);\n",
      "   ├─ \u001b[31mtensorflow-gpu [2.16.1|2.16.2|2.17.0]\u001b[0m would require\n",
      "   │  └─ \u001b[31mtensorflow [2.16.1 cuda120py312hee4d333_0|2.16.2 cuda120py312h02ad488_0|...|2.17.0 cuda124py312ha1f05a4_200]\u001b[0m, which requires\n",
      "   │     └─ \u001b[31mpython >=3.12,<3.13.0a0 \u001b[0m, which conflicts with any installable versions previously reported;\n",
      "   ├─ \u001b[31mtensorflow-gpu [1.10.0|1.9.0]\u001b[0m would require\n",
      "   │  └─ \u001b[31mtensorflow [1.10.0 |1.9.0 ]\u001b[0m but there are no viable options\n",
      "   │     ├─ \u001b[31mtensorflow [1.10.0|1.13.1|...|2.4.1]\u001b[0m would require\n",
      "   │     │  ├─ \u001b[31mpython >=3.6,<3.7.0a0 \u001b[0m, which conflicts with any installable versions previously reported;\n",
      "   │     │  └─ \u001b[31mtensorflow-base [1.13.1 py36h58012e3_6|1.13.1 py36h76b4ce7_7|...|==1.8.0 py36hee38f2d_0]\u001b[0m, which requires\n",
      "   │     │     └─ \u001b[31mpython >=3.6,<3.7.0a0 \u001b[0m, which conflicts with any installable versions previously reported;\n",
      "   │     ├─ \u001b[31mtensorflow [1.10.0|1.11.0|...|2.1.0]\u001b[0m would require\n",
      "   │     │  ├─ \u001b[31mpython [2.7.* |>=2.7,<2.8.0a0 ]\u001b[0m, which conflicts with any installable versions previously reported;\n",
      "   │     │  └─ \u001b[31mtensorflow-base [1.13.1 py27h76b4ce7_8|==1.8.0 py27h5f64886_0|==1.8.0 py27hc1a7637_0|==1.8.0 py27hee38f2d_0]\u001b[0m, which requires\n",
      "   │     │     └─ \u001b[31mpython >=2.7,<2.8.0a0 \u001b[0m, which conflicts with any installable versions previously reported;\n",
      "   │     ├─ \u001b[31mtensorflow [1.10.0|1.11.0|...|2.2.0]\u001b[0m would require\n",
      "   │     │  └─ \u001b[31mpython 3.6.* \u001b[0m, which conflicts with any installable versions previously reported;\n",
      "   │     ├─ \u001b[31mtensorflow [1.10.0|1.8.0|1.9.0]\u001b[0m would require\n",
      "   │     │  ├─ \u001b[31mpython [3.5.* |>=3.5,<3.6.0a0 ]\u001b[0m, which conflicts with any installable versions previously reported;\n",
      "   │     │  └─ \u001b[31mtensorflow-base [==1.8.0 py35h5f64886_0|==1.8.0 py35hc1a7637_0|==1.8.0 py35hee38f2d_0]\u001b[0m, which requires\n",
      "   │     │     └─ \u001b[31mpython >=3.5,<3.6.0a0 \u001b[0m, which conflicts with any installable versions previously reported;\n",
      "   │     └─ \u001b[31mtensorflow [1.10.0|1.8.0|1.9.0]\u001b[0m would require\n",
      "   │        └─ \u001b[31mtensorflow-base [==1.10.0 gpu_py27h3435052_0|==1.10.0 gpu_py35h3435052_0|...|==1.9.0 gpu_py36h9f529ab_1]\u001b[0m, which requires\n",
      "   │           └─ \u001b[31mcudatoolkit 8.0.* \u001b[0m, which does not exist (perhaps a missing channel);\n",
      "   ├─ \u001b[31mtensorflow-gpu [1.11.0|1.12.0]\u001b[0m would require\n",
      "   │  └─ \u001b[31mtensorflow [1.11.0 |1.12.0 ]\u001b[0m, which cannot be installed (as previously explained);\n",
      "   ├─ \u001b[31mtensorflow-gpu [1.13.1|1.14.0|1.15.0|2.0.0|2.1.0]\u001b[0m would require\n",
      "   │  └─ \u001b[31mtensorflow [1.13.1 |1.14.0 |1.15.0 |2.0.0 |2.1.0 ]\u001b[0m, which cannot be installed (as previously explained);\n",
      "   ├─ \u001b[31mtensorflow-gpu 1.4.1\u001b[0m would require\n",
      "   │  └─ \u001b[31mtensorflow-gpu-base 1.4.1 \u001b[0m, which requires\n",
      "   │     └─ \u001b[31mcudatoolkit 8.0.* \u001b[0m, which does not exist (perhaps a missing channel);\n",
      "   ├─ \u001b[31mtensorflow-gpu 1.5.0\u001b[0m would require\n",
      "   │  └─ \u001b[31mtensorflow-tensorboard >=1.5.0,<1.6.0 \u001b[0m but there are no viable options\n",
      "   │     ├─ \u001b[31mtensorflow-tensorboard 1.5.1\u001b[0m would require\n",
      "   │     │  └─ \u001b[31mpython >=2.7,<2.8.0a0 \u001b[0m, which conflicts with any installable versions previously reported;\n",
      "   │     ├─ \u001b[31mtensorflow-tensorboard 1.5.1\u001b[0m would require\n",
      "   │     │  └─ \u001b[31mpython >=3.5,<3.6.0a0 \u001b[0m, which conflicts with any installable versions previously reported;\n",
      "   │     └─ \u001b[31mtensorflow-tensorboard 1.5.1\u001b[0m would require\n",
      "   │        └─ \u001b[31mpython >=3.6,<3.7.0a0 \u001b[0m, which conflicts with any installable versions previously reported;\n",
      "   ├─ \u001b[31mtensorflow-gpu [1.6.0|1.7.0|1.8.0]\u001b[0m would require\n",
      "   │  ├─ \u001b[31mtensorflow >=1.8.0,<1.8.1.0a0 \u001b[0m but there are no viable options\n",
      "   │  │  ├─ \u001b[31mtensorflow [1.10.0|1.13.1|...|2.4.1]\u001b[0m, which cannot be installed (as previously explained);\n",
      "   │  │  ├─ \u001b[31mtensorflow [1.10.0|1.11.0|...|2.1.0]\u001b[0m, which cannot be installed (as previously explained);\n",
      "   │  │  ├─ \u001b[31mtensorflow [1.10.0|1.8.0|1.9.0]\u001b[0m, which cannot be installed (as previously explained);\n",
      "   │  │  ├─ \u001b[31mtensorflow [1.10.0|1.8.0|1.9.0]\u001b[0m, which cannot be installed (as previously explained);\n",
      "   │  │  └─ \u001b[31mtensorflow 1.8.0\u001b[0m would require\n",
      "   │  │     └─ \u001b[31mtensorflow-base 1.8.0 \u001b[0m, which cannot be installed (as previously explained);\n",
      "   │  └─ \u001b[31mtensorflow-gpu-base [1.6.0 |1.7.0 ]\u001b[0m but there are no viable options\n",
      "   │     ├─ \u001b[31mtensorflow-gpu-base [1.4.1|1.6.0|1.7.0]\u001b[0m, which cannot be installed (as previously explained);\n",
      "   │     ├─ \u001b[31mtensorflow-gpu-base [1.6.0|1.7.0]\u001b[0m would require\n",
      "   │     │  └─ \u001b[31mpython >=2.7,<2.8.0a0 \u001b[0m, which conflicts with any installable versions previously reported;\n",
      "   │     ├─ \u001b[31mtensorflow-gpu-base [1.6.0|1.7.0]\u001b[0m would require\n",
      "   │     │  └─ \u001b[31mpython >=3.5,<3.6.0a0 \u001b[0m, which conflicts with any installable versions previously reported;\n",
      "   │     └─ \u001b[31mtensorflow-gpu-base [1.6.0|1.7.0]\u001b[0m would require\n",
      "   │        └─ \u001b[31mpython >=3.6,<3.7.0a0 \u001b[0m, which conflicts with any installable versions previously reported;\n",
      "   ├─ \u001b[31mtensorflow-gpu 2.2.0\u001b[0m would require\n",
      "   │  └─ \u001b[31mtensorflow 2.2.0 \u001b[0m, which cannot be installed (as previously explained);\n",
      "   └─ \u001b[31mtensorflow-gpu 2.4.1\u001b[0m would require\n",
      "      └─ \u001b[31mtensorflow 2.4.1 \u001b[0m, which cannot be installed (as previously explained).\n",
      "\n"
     ]
    }
   ],
   "source": [
    "!conda install -c conda-forge tensorflow-gpu\n"
   ]
  },
  {
   "cell_type": "code",
   "execution_count": null,
   "id": "1fa41068-51aa-4737-8baf-f81211ba4013",
   "metadata": {},
   "outputs": [],
   "source": [
    "!conda install -c conda-forge opencv\n"
   ]
  },
  {
   "cell_type": "code",
   "execution_count": 6,
   "id": "34afffbd-1211-419e-9683-08e231264c5c",
   "metadata": {},
   "outputs": [
    {
     "name": "stdout",
     "output_type": "stream",
     "text": [
      "\u001b[31mERROR: Could not find a version that satisfies the requirement tensorflow (from versions: none)\u001b[0m\u001b[31m\n",
      "\u001b[0m\u001b[31mERROR: No matching distribution found for tensorflow\u001b[0m\u001b[31m\n",
      "\u001b[0m"
     ]
    }
   ],
   "source": [
    "!pip install tensorflow-hub\n"
   ]
  },
  {
   "cell_type": "code",
   "execution_count": 13,
   "id": "cd311ee9-12a4-406d-a985-6ec57959ed46",
   "metadata": {},
   "outputs": [
    {
     "name": "stdout",
     "output_type": "stream",
     "text": [
      "Python 3.13.0\n"
     ]
    }
   ],
   "source": [
    "!python --version"
   ]
  },
  {
   "cell_type": "code",
   "execution_count": 5,
   "id": "58f3d4e4-92f2-4501-899a-a7fcd06801a9",
   "metadata": {},
   "outputs": [
    {
     "ename": "ModuleNotFoundError",
     "evalue": "No module named 'tensorflow'",
     "output_type": "error",
     "traceback": [
      "\u001b[0;31m---------------------------------------------------------------------------\u001b[0m",
      "\u001b[0;31mModuleNotFoundError\u001b[0m                       Traceback (most recent call last)",
      "Cell \u001b[0;32mIn[5], line 5\u001b[0m\n\u001b[1;32m      3\u001b[0m \u001b[38;5;28;01mfrom\u001b[39;00m \u001b[38;5;21;01mPIL\u001b[39;00m \u001b[38;5;28;01mimport\u001b[39;00m Image\n\u001b[1;32m      4\u001b[0m \u001b[38;5;28;01mimport\u001b[39;00m \u001b[38;5;21;01mnumpy\u001b[39;00m \u001b[38;5;28;01mas\u001b[39;00m \u001b[38;5;21;01mnp\u001b[39;00m\n\u001b[0;32m----> 5\u001b[0m \u001b[38;5;28;01mimport\u001b[39;00m \u001b[38;5;21;01mtensorflow\u001b[39;00m \u001b[38;5;28;01mas\u001b[39;00m \u001b[38;5;21;01mtf\u001b[39;00m\n\u001b[1;32m      6\u001b[0m \u001b[38;5;28;01mimport\u001b[39;00m \u001b[38;5;21;01mtensorflow_hub\u001b[39;00m \u001b[38;5;28;01mas\u001b[39;00m \u001b[38;5;21;01mhub\u001b[39;00m\n\u001b[1;32m      7\u001b[0m \u001b[38;5;28;01mimport\u001b[39;00m \u001b[38;5;21;01mmatplotlib\u001b[39;00m\u001b[38;5;21;01m.\u001b[39;00m\u001b[38;5;21;01mpyplot\u001b[39;00m \u001b[38;5;28;01mas\u001b[39;00m \u001b[38;5;21;01mplt\u001b[39;00m\n",
      "\u001b[0;31mModuleNotFoundError\u001b[0m: No module named 'tensorflow'"
     ]
    }
   ],
   "source": [
    "import os\n",
    "import time\n",
    "from PIL import Image\n",
    "import numpy as np\n",
    "import tensorflow as tf\n",
    "import tensorflow_hub as hub\n",
    "import matplotlib.pyplot as plt\n",
    "os.environ[\"TFHUB_DOWNLOAD_PROGRESS\"] = \"True\""
   ]
  },
  {
   "cell_type": "code",
   "execution_count": null,
   "id": "cb86e4e2-ca5c-4b22-aba6-1f70f071f3c5",
   "metadata": {},
   "outputs": [],
   "source": []
  }
 ],
 "metadata": {
  "kernelspec": {
   "display_name": "esrGAN",
   "language": "python",
   "name": "esrgan"
  },
  "language_info": {
   "codemirror_mode": {
    "name": "ipython",
    "version": 3
   },
   "file_extension": ".py",
   "mimetype": "text/x-python",
   "name": "python",
   "nbconvert_exporter": "python",
   "pygments_lexer": "ipython3",
   "version": "3.13.0"
  }
 },
 "nbformat": 4,
 "nbformat_minor": 5
}
